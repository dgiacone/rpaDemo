{
 "cells": [
  {
   "cell_type": "code",
   "execution_count": 88,
   "metadata": {},
   "outputs": [],
   "source": [
    "# importo las librerias\n",
    "import requests\n",
    "import urllib.request\n",
    "import pandas as pd\n",
    "import re\n",
    "import json\n",
    "from time import time\n",
    "from datetime import datetime, timedelta\n",
    "from bs4 import BeautifulSoup\n",
    "import pyautogui, sys\n",
    "import time"
   ]
  },
  {
   "cell_type": "code",
   "execution_count": 89,
   "metadata": {},
   "outputs": [],
   "source": [
    "url = 'https://www.autofoco.com/'"
   ]
  },
  {
   "cell_type": "code",
   "execution_count": 90,
   "metadata": {},
   "outputs": [],
   "source": [
    "# Defino el destino del archivo JSON\n",
    "path_file_dest = r'precios.json'\n",
    "# hago un GET de la pagina \n",
    "response = requests.get(url, headers={'User-Agent': 'Mozilla/5.0 (Platform; Security; OS-or-CPU; Localization; rv:1.4) Gecko/20030624 Netscape/7.1 (ax)'})"
   ]
  },
  {
   "cell_type": "code",
   "execution_count": 91,
   "metadata": {},
   "outputs": [],
   "source": [
    "# Defino una funcion que guarda los datos en un archivo\n",
    "def write_doc_json(content, mode):\n",
    "    own_file = open(path_file_dest, mode, encoding='utf-8')\n",
    "    own_file.write(content.decode('utf-8'))\n",
    "    own_file.close()\n",
    "    print('\\n•  El archivo json fue sobre-escrito con exito!')"
   ]
  },
  {
   "cell_type": "code",
   "execution_count": 92,
   "metadata": {},
   "outputs": [
    {
     "data": {
      "text/plain": [
       "200"
      ]
     },
     "execution_count": 92,
     "metadata": {},
     "output_type": "execute_result"
    }
   ],
   "source": [
    "response.status_code"
   ]
  },
  {
   "cell_type": "code",
   "execution_count": 93,
   "metadata": {},
   "outputs": [
    {
     "data": {
      "text/plain": [
       "262271"
      ]
     },
     "execution_count": 93,
     "metadata": {},
     "output_type": "execute_result"
    }
   ],
   "source": [
    "len(response.text)"
   ]
  },
  {
   "cell_type": "code",
   "execution_count": 94,
   "metadata": {},
   "outputs": [],
   "source": [
    "if response.status_code == 200:\n",
    "    \n",
    "    info = []\n",
    "    soup = BeautifulSoup(response.text, \"html.parser\")\n",
    "    data = soup.findAll('h4',attrs={'class': 'no-margin truncate'})\n",
    "\n",
    "    for x in soup.findAll('h4',attrs={'class': 'no-margin truncate'}):\n",
    "       \n",
    "        for i in x:\n",
    "            info.append(i.text)\n"
   ]
  },
  {
   "cell_type": "code",
   "execution_count": 95,
   "metadata": {},
   "outputs": [],
   "source": [
    "pyautogui.moveTo(10, 10,1)\n",
    "pyautogui.click()\n",
    "pyautogui.typewrite(\"Word\")\n",
    "pyautogui.moveTo(60, 185,1)\n",
    "pyautogui.click()\n",
    "time.sleep(5)\n",
    "pyautogui.moveTo(1000, 500,1)\n",
    "pyautogui.click()\n",
    " \n",
    "for i in info:\n",
    "    pyautogui.typewrite(i)\n",
    "    pyautogui.press('enter')\n",
    "\n",
    "pyautogui.typewrite(\"-----------------------------------------------------------------------------------\")\n",
    "pyautogui.press('enter')\n",
    "pyautogui.typewrite(\"Este fue un documento escrito por un proceso de RPA!\")\n",
    "pyautogui.press('enter')\n",
    "pyautogui.typewrite(\"-----------------------------------------------------------------------------------\")\n",
    "time.sleep(5)\n",
    "pyautogui.press('enter')\n",
    "pyautogui.typewrite(\"Ahora vamos a guardar y salir\")\n",
    "time.sleep(5)\n"
   ]
  },
  {
   "cell_type": "code",
   "execution_count": 96,
   "metadata": {},
   "outputs": [],
   "source": [
    "pyautogui.hotkey('alt', 'f4')\n",
    "pyautogui.press('enter')\n",
    "pyautogui.typewrite(\"documento_rpa200\")\n",
    "pyautogui.press('enter')    "
   ]
  }
 ],
 "metadata": {
  "kernelspec": {
   "display_name": "Python 3",
   "language": "python",
   "name": "python3"
  },
  "language_info": {
   "codemirror_mode": {
    "name": "ipython",
    "version": 3
   },
   "file_extension": ".py",
   "mimetype": "text/x-python",
   "name": "python",
   "nbconvert_exporter": "python",
   "pygments_lexer": "ipython3",
   "version": "3.8.3"
  }
 },
 "nbformat": 4,
 "nbformat_minor": 4
}
